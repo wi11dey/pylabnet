{
 "metadata": {
  "language_info": {
   "codemirror_mode": {
    "name": "ipython",
    "version": 3
   },
   "file_extension": ".py",
   "mimetype": "text/x-python",
   "name": "python",
   "nbconvert_exporter": "python",
   "pygments_lexer": "ipython3",
   "version": "3.7.4-final"
  },
  "orig_nbformat": 2,
  "kernelspec": {
   "name": "python3",
   "display_name": "Python 3.7.4 64-bit",
   "metadata": {
    "interpreter": {
     "hash": "a4186fe628ca4aa48259bb90613dee9f20f30a8ae175e53f9fa0e1269de280d9"
    }
   }
  }
 },
 "nbformat": 4,
 "nbformat_minor": 2,
 "cells": [
  {
   "cell_type": "code",
   "execution_count": 16,
   "metadata": {},
   "outputs": [
    {
     "output_type": "error",
     "ename": "ImportError",
     "evalue": "cannot import name 'HDAWG_to_breakout_box' from 'pylabnet.utils.helper_methods' (C:\\Users\\b16lu\\pylabnet\\pylabnet\\utils\\helper_methods.py)",
     "traceback": [
      "\u001b[1;31m---------------------------------------------------------------------------\u001b[0m",
      "\u001b[1;31mImportError\u001b[0m                               Traceback (most recent call last)",
      "\u001b[1;32m<ipython-input-16-2956b3248916>\u001b[0m in \u001b[0;36m<module>\u001b[1;34m\u001b[0m\n\u001b[0;32m      1\u001b[0m \u001b[1;32mfrom\u001b[0m \u001b[0mpylabnet\u001b[0m\u001b[1;33m.\u001b[0m\u001b[0mnetwork\u001b[0m\u001b[1;33m.\u001b[0m\u001b[0mclient_server\u001b[0m\u001b[1;33m.\u001b[0m\u001b[0mdio_breakout\u001b[0m \u001b[1;32mimport\u001b[0m \u001b[0mClient\u001b[0m\u001b[1;33m\u001b[0m\u001b[1;33m\u001b[0m\u001b[0m\n\u001b[1;32m----> 2\u001b[1;33m \u001b[1;32mfrom\u001b[0m \u001b[0mpylabnet\u001b[0m\u001b[1;33m.\u001b[0m\u001b[0mutils\u001b[0m\u001b[1;33m.\u001b[0m\u001b[0mhelper_methods\u001b[0m \u001b[1;32mimport\u001b[0m \u001b[0mHDAWG_to_breakout_box\u001b[0m\u001b[1;33m,\u001b[0m \u001b[0mbreakout_box_to_HDAWG\u001b[0m\u001b[1;33m\u001b[0m\u001b[1;33m\u001b[0m\u001b[0m\n\u001b[0m\u001b[0;32m      3\u001b[0m \u001b[1;31m#from pylabnet.utils.helper_methods import get_ip\u001b[0m\u001b[1;33m\u001b[0m\u001b[1;33m\u001b[0m\u001b[1;33m\u001b[0m\u001b[0m\n",
      "\u001b[1;31mImportError\u001b[0m: cannot import name 'HDAWG_to_breakout_box' from 'pylabnet.utils.helper_methods' (C:\\Users\\b16lu\\pylabnet\\pylabnet\\utils\\helper_methods.py)"
     ]
    }
   ],
   "source": [
    "from pylabnet.network.client_server.dio_breakout import Client\n",
    "from pylabnet.utils.helper_methods import HDAWG_to_breakout_box, breakout_box_to_HDAWG\n",
    "\n"
   ]
  },
  {
   "cell_type": "code",
   "execution_count": 17,
   "metadata": {},
   "outputs": [],
   "source": [
    "def HDAWG_to_breakout_box(pin):\n",
    "    if pin < 8 or (pin < 24 and pin >= 16):\n",
    "        print(\"these pins are not mapped to the dio breakout box\")\n",
    "        return None\n",
    "    else:\n",
    "        if int(np.floor(pin/4)) == 2:\n",
    "            board = 0\n",
    "        if int(np.floor(pin/4)) == 3:\n",
    "            board = 1\n",
    "        if int(np.floor(pin/4)) == 6:\n",
    "            board = 2\n",
    "        if int(np.floor(pin/4)) == 7:\n",
    "            board = 3\n",
    "        channel = np.mod(pin, 4)\n",
    "\n",
    "    return board, channel\n",
    "\n",
    "def breakout_box_to_HDAWG(board, channel):\n",
    "    if board > 4 or channel > 4:\n",
    "        print(\"non existing board or channel for dio breakout box\")\n",
    "        return None\n",
    "    else:\n",
    "        if board == 0:\n",
    "            pin = 8\n",
    "        if board == 1:\n",
    "            pin = 12\n",
    "        if board == 2:\n",
    "            pin = 24\n",
    "        if board == 3:\n",
    "            pin = 28\n",
    "\n",
    "        pin = pin + channel\n",
    "\n",
    "    return pin"
   ]
  },
  {
   "cell_type": "code",
   "execution_count": 3,
   "metadata": {},
   "outputs": [],
   "source": [
    "dio = Client(\n",
    "    host='140.247.189.209',\n",
    "    port=45267\n",
    ")"
   ]
  },
  {
   "cell_type": "code",
   "execution_count": 19,
   "metadata": {},
   "outputs": [
    {
     "output_type": "stream",
     "name": "stdout",
     "text": [
      "11\n15\n"
     ]
    }
   ],
   "source": [
    "## currently connected ports:\n",
    "## board 0 channel 3\n",
    "## board 1 channel 3\n",
    "# # corresponds to HDAWG pins:\n",
    "pin1 = breakout_box_to_HDAWG(0, 3)\n",
    "print(pin1)\n",
    "pin2 = breakout_box_to_HDAWG(1, 3)\n",
    "print(pin2)"
   ]
  },
  {
   "cell_type": "code",
   "execution_count": 4,
   "metadata": {},
   "outputs": [
    {
     "output_type": "execute_result",
     "data": {
      "text/plain": [
       "0.021978021978021976"
      ]
     },
     "metadata": {},
     "execution_count": 4
    }
   ],
   "source": [
    "## self.measure_voltage(board, channel)\n",
    "\n",
    "dio.measure_voltage(0, 0)"
   ]
  },
  {
   "cell_type": "code",
   "execution_count": 13,
   "metadata": {},
   "outputs": [
    {
     "output_type": "execute_result",
     "data": {
      "text/plain": [
       "0"
      ]
     },
     "metadata": {},
     "execution_count": 13
    }
   ],
   "source": [
    "## self.set_high_voltage(board, channel, voltage)\n",
    "dio.set_high_voltage(1, 3, 2)"
   ]
  },
  {
   "cell_type": "code",
   "execution_count": 11,
   "metadata": {},
   "outputs": [
    {
     "output_type": "execute_result",
     "data": {
      "text/plain": [
       "2.0"
      ]
     },
     "metadata": {},
     "execution_count": 11
    }
   ],
   "source": [
    "dio.get_high_voltage(0, 0)"
   ]
  },
  {
   "cell_type": "code",
   "execution_count": 7,
   "metadata": {},
   "outputs": [
    {
     "output_type": "execute_result",
     "data": {
      "text/plain": [
       "1"
      ]
     },
     "metadata": {},
     "execution_count": 7
    }
   ],
   "source": [
    "dio.save()"
   ]
  },
  {
   "cell_type": "code",
   "execution_count": 7,
   "metadata": {},
   "outputs": [
    {
     "output_type": "execute_result",
     "data": {
      "text/plain": "0"
     },
     "metadata": {},
     "execution_count": 7
    }
   ],
   "source": [
    "dio.override(0, 0, False)"
   ]
  },
  {
   "cell_type": "code",
   "execution_count": 8,
   "metadata": {},
   "outputs": [
    {
     "output_type": "execute_result",
     "data": {
      "text/plain": "0"
     },
     "metadata": {},
     "execution_count": 8
    }
   ],
   "source": [
    "dio.disable_override(0, 0)"
   ]
  },
  {
   "cell_type": "code",
   "execution_count": null,
   "metadata": {},
   "outputs": [],
   "source": []
  }
 ]
}