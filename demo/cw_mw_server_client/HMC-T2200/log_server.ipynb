{
 "cells": [
  {
   "cell_type": "code",
   "execution_count": 1,
   "metadata": {},
   "outputs": [],
   "source": [
    "from pylabnet.utils.logging.logger import LogService\n",
    "from pylabnet.network.core.generic_server import GenericServer\n",
    "import os\n",
    "import sys"
   ]
  },
  {
   "cell_type": "markdown",
   "metadata": {},
   "source": [
    "# Start Logging Server"
   ]
  },
  {
   "cell_type": "code",
   "execution_count": 2,
   "metadata": {},
   "outputs": [],
   "source": [
    "log_service_name = 'Logger'\n",
    "log_folder = 'logs'\n",
    "\n",
    "dir_path = os.path.join(os.path.abspath(''), log_folder)\n",
    "\n",
    "log_service = LogService(\n",
    "    log_output=False,\n",
    "    name=log_service_name,\n",
    "    dir_path=dir_path,\n",
    ")"
   ]
  },
  {
   "cell_type": "code",
   "execution_count": 3,
   "metadata": {},
   "outputs": [],
   "source": [
    "log_server = GenericServer(\n",
    "    service=log_service, \n",
    "    host='localhost', \n",
    "    port=12351\n",
    ")"
   ]
  },
  {
   "cell_type": "code",
   "execution_count": 4,
   "metadata": {},
   "outputs": [],
   "source": [
    "log_server.start()"
   ]
  },
  {
   "cell_type": "code",
   "execution_count": 5,
   "metadata": {},
   "outputs": [
    {
     "data": {
      "text/plain": [
       "True"
      ]
     },
     "execution_count": 5,
     "metadata": {},
     "output_type": "execute_result"
    },
    {
     "name": "stdout",
     "output_type": "stream",
     "text": [
      "2020-07-14 13:31:26,568 - INFO - Client connected\n",
      "2020-07-14 13:31:26,582 - INFO -  laser_scan_closed_loop: Started logging\n",
      "2020-07-14 13:31:45,344 - INFO - Client connected\n",
      "2020-07-14 13:31:45,357 - INFO -  1D_update_server: Started logging\n",
      "2020-07-14 13:31:45,365 - INFO - Updated client data for 1D_update_server\n",
      "2020-07-14 13:40:29,083 - INFO - Client connected\n",
      "2020-07-14 13:40:29,092 - INFO -  laser_scan_closed_loop_multichannel: Started logging\n",
      "2020-07-14 13:41:48,284 - INFO - Client connected\n",
      "2020-07-14 13:41:48,298 - INFO -  laser_scan_closed_loop_multichannel: Started logging\n",
      "2020-07-14 13:41:48,301 - INFO - Client connected\n",
      "2020-07-14 13:41:48,309 - INFO -  MultiCh1D_pause_server: Started logging\n",
      "2020-07-14 13:41:58,940 - INFO - Client connected\n",
      "2020-07-14 13:41:58,949 - INFO -  laser_scan_closed_loop_multichannel: Started logging\n",
      "2020-07-14 13:41:58,952 - INFO - Client connected\n",
      "2020-07-14 13:41:58,961 - INFO -  MultiCh1D_pause_server: Started logging\n",
      "2020-07-14 13:42:02,875 - DEBUG - Client disconnected\n",
      "2020-07-14 13:42:02,881 - DEBUG - Client disconnected\n",
      "2020-07-14 13:42:02,916 - DEBUG - Client disconnected\n",
      "2020-07-14 13:48:07,062 - DEBUG - Client disconnected\n",
      "2020-07-14 13:48:07,062 - DEBUG - Client disconnected\n",
      "2020-07-14 13:48:07,063 - DEBUG - Client disconnected\n",
      "2020-07-14 13:48:07,063 - DEBUG - Client disconnected\n",
      "2020-07-14 13:48:51,387 - INFO - Client connected\n",
      "2020-07-14 13:48:51,396 - INFO -  laser_scan_closed_loop: Started logging\n",
      "2020-07-14 13:48:52,812 - INFO - Client connected\n",
      "2020-07-14 13:48:52,820 - INFO -  1D_update_server: Started logging\n",
      "2020-07-14 13:48:52,825 - INFO - Updated client data for 1D_update_server\n",
      "2020-07-14 13:49:51,879 - DEBUG - Client disconnected\n",
      "2020-07-14 13:49:51,880 - DEBUG - Client disconnected\n",
      "2020-07-14 13:50:00,182 - INFO - Client connected\n",
      "2020-07-14 13:50:00,190 - INFO -  laser_scan_closed_loop: Started logging\n",
      "2020-07-14 13:50:01,011 - INFO - Client connected\n",
      "2020-07-14 13:50:01,020 - INFO -  1D_update_server: Started logging\n",
      "2020-07-14 13:50:01,025 - INFO - Updated client data for 1D_update_server\n",
      "2020-07-14 13:50:56,824 - DEBUG - Client disconnected\n",
      "2020-07-14 13:50:56,824 - DEBUG - Client disconnected\n",
      "2020-07-14 13:51:00,442 - INFO - Client connected\n",
      "2020-07-14 13:51:00,450 - INFO -  laser_scan_closed_loop: Started logging\n",
      "2020-07-14 13:51:01,240 - INFO - Client connected\n",
      "2020-07-14 13:51:01,248 - INFO -  1D_update_server: Started logging\n",
      "2020-07-14 13:51:01,252 - INFO - Updated client data for 1D_update_server\n",
      "2020-07-14 13:52:04,671 - DEBUG - Client disconnected\n",
      "2020-07-14 13:52:04,672 - DEBUG - Client disconnected\n",
      "2020-07-14 13:52:07,647 - INFO - Client connected\n",
      "2020-07-14 13:52:07,654 - INFO -  laser_scan_closed_loop: Started logging\n",
      "2020-07-14 13:52:08,199 - INFO - Client connected\n",
      "2020-07-14 13:52:08,207 - INFO -  1D_update_server: Started logging\n",
      "2020-07-14 13:52:08,212 - INFO - Updated client data for 1D_update_server\n",
      "2020-07-14 13:52:10,305 - ERROR -  laser_scan_closed_loop: Sweep type must be either \"sawtooth\" or \"triangle\".\n",
      "2020-07-14 13:52:22,692 - ERROR -  laser_scan_closed_loop: Sweep type must be either \"sawtooth\" or \"triangle\".\n",
      "2020-07-14 14:06:36,707 - DEBUG - Client disconnected\n",
      "2020-07-14 14:06:36,708 - DEBUG - Client disconnected\n",
      "2020-07-14 14:07:25,682 - INFO - Client connected\n",
      "2020-07-14 14:07:25,691 - INFO -  laser_scan_closed_loop: Started logging\n",
      "2020-07-14 14:07:26,093 - INFO - Client connected\n",
      "2020-07-14 14:07:26,102 - INFO -  1D_update_server: Started logging\n",
      "2020-07-14 14:07:26,106 - INFO - Updated client data for 1D_update_server\n"
     ]
    }
   ],
   "source": [
    "log_server._server.active"
   ]
  },
  {
   "cell_type": "markdown",
   "metadata": {},
   "source": [
    "# Monitor Clients and Logging Output"
   ]
  },
  {
   "cell_type": "code",
   "execution_count": 6,
   "metadata": {},
   "outputs": [
    {
     "data": {
      "text/plain": [
       "set()"
      ]
     },
     "execution_count": 6,
     "metadata": {},
     "output_type": "execute_result"
    }
   ],
   "source": [
    "log_server._server.clients"
   ]
  },
  {
   "cell_type": "code",
   "execution_count": 7,
   "metadata": {
    "scrolled": true
   },
   "outputs": [
    {
     "name": "stdout",
     "output_type": "stream",
     "text": [
      "Log messages will be displayed below\n",
      "2020-05-20 20:43:08,274 - INFO - Client connected\n",
      "2020-05-20 20:43:08,284 - INFO -  Spectrum Analyser: Started logging\n",
      "2020-05-20 20:43:18,237 - INFO -  Spectrum Analyser: Successfully connected to Hewlett-Packard, E4405B, MY44220484, A.14.01\n",
      ".\n",
      "2020-05-20 20:43:18,240 - INFO -  Spectrum Analyser: Reset to factory settings successfull.\n",
      "2020-05-20 20:44:01,298 - INFO -  Spectrum Analyser: Client connected\n",
      "2020-05-20 20:44:03,209 - INFO -  Spectrum Analyser: Display off.\n",
      "2020-05-20 20:44:04,224 - INFO -  Spectrum Analyser: Display on.\n",
      "2020-05-20 20:44:06,424 - WARNING -  Spectrum Analyser: No background acquired. Run acquire_background_spectrum() to acquire background.\n",
      "2020-05-20 20:44:25,855 - WARNING -  Spectrum Analyser: No background acquired. Run acquire_background_spectrum() to acquire background.\n",
      "2020-05-20 20:45:10,905 - INFO -  Spectrum Analyser: Client disconnected\n",
      "2020-05-20 20:45:16,074 - INFO -  Spectrum Analyser: Client connected\n",
      "2020-05-20 20:45:17,584 - INFO -  Spectrum Analyser: Display off.\n",
      "2020-05-20 20:45:18,005 - INFO -  Spectrum Analyser: Display on.\n",
      "2020-05-20 20:45:21,014 - WARNING -  Spectrum Analyser: No background acquired. Run acquire_background_spectrum() to acquire background.\n",
      "2020-05-20 20:45:23,990 - INFO -  Spectrum Analyser: Center frequency set to 12000000000.0 Hz\n",
      "2020-05-20 20:45:23,996 - INFO -  Spectrum Analyser: Frequency span set 1000000000.0 Hz\n",
      "2020-05-20 20:47:08,636 - INFO -  Spectrum Analyser: Client disconnected\n",
      "2020-05-20 20:47:13,619 - INFO -  Spectrum Analyser: Client connected\n",
      "2020-05-20 20:47:14,869 - INFO -  Spectrum Analyser: Display off.\n",
      "2020-05-20 20:47:15,311 - INFO -  Spectrum Analyser: Display on.\n",
      "2020-05-20 20:47:18,788 - WARNING -  Spectrum Analyser: No background acquired. Run acquire_background_spectrum() to acquire background.\n",
      "2020-05-20 20:47:21,215 - INFO -  Spectrum Analyser: Center frequency set to 12000000000.0 Hz\n",
      "2020-05-20 20:47:21,222 - INFO -  Spectrum Analyser: Frequency span set 1000000000.0 Hz\n",
      "2020-05-20 20:47:28,075 - INFO -  Spectrum Analyser: Display off.\n",
      "2020-05-20 20:48:01,807 - INFO -  Spectrum Analyser: Display on.\n"
     ]
    }
   ],
   "source": [
    "print (\"Log messages will be displayed below\")"
   ]
  }
 ],
 "metadata": {
  "kernelspec": {
   "display_name": "Python 3",
   "language": "python",
   "name": "python3"
  },
  "language_info": {
   "codemirror_mode": {
    "name": "ipython",
    "version": 3
   },
   "file_extension": ".py",
   "mimetype": "text/x-python",
   "name": "python",
   "nbconvert_exporter": "python",
   "pygments_lexer": "ipython3",
   "version": "3.7.4"
  }
 },
 "nbformat": 4,
 "nbformat_minor": 2
}
