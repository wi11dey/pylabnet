{
 "cells": [
  {
   "cell_type": "code",
   "execution_count": 1,
   "metadata": {},
   "outputs": [],
   "source": [
    "import pyvisa\n",
    "from pylabnet.utils.logging.logger import LogClient\n",
    "import pylabnet.hardware.spectrum_analyzer.agilent_e4405B as sa\n",
    "from pylabnet.network.core.generic_server import GenericServer\n",
    "from pylabnet.network.client_server.agilent_e4405B import Service"
   ]
  },
  {
   "cell_type": "markdown",
   "metadata": {},
   "source": [
    "# Connect to Log Server"
   ]
  },
  {
   "cell_type": "code",
   "execution_count": 2,
   "metadata": {},
   "outputs": [],
   "source": [
    "# Instantiate\n",
    "logger = LogClient(\n",
    "    host='140.247.189.82',\n",
    "    port=20697,\n",
    "    module_tag='Spectrum Analyser'\n",
    ")"
   ]
  },
  {
   "cell_type": "code",
   "execution_count": null,
   "metadata": {},
   "outputs": [],
   "source": []
  },
  {
   "cell_type": "markdown",
   "metadata": {},
   "source": [
    "# Connect to Agilent E4405B Spectrum Analyser"
   ]
  },
  {
   "cell_type": "markdown",
   "metadata": {},
   "source": [
    "The spectrum analyser is connected using the GPIB output and a GPIB-USB adapter to the PC (such as [this one](https://www.ni.com/en-us/support/model.gpib-usb-hs.html)). Before running the code, make sure the driver of the GPIB-USB adapter is installed and [NI-VISA](https://pyvisa.readthedocs.io/en/latest/faq/getting_nivisa.html#faq-getting-nivisa) is installed."
   ]
  },
  {
   "cell_type": "code",
   "execution_count": 3,
   "metadata": {},
   "outputs": [
    {
     "output_type": "execute_result",
     "data": {
      "text/plain": [
       "('TCPIP0::140.247.189.103::inst0::INSTR',\n",
       " 'TCPIP0::140.247.189.152::inst0::INSTR',\n",
       " 'ASRL3::INSTR',\n",
       " 'ASRL4::INSTR',\n",
       " 'ASRL5::INSTR',\n",
       " 'ASRL6::INSTR',\n",
       " 'GPIB0::18::INSTR')"
      ]
     },
     "metadata": {},
     "execution_count": 3
    }
   ],
   "source": [
    "# List all connected VISA ressources \n",
    "rm = pyvisa.ResourceManager()\n",
    "rm.list_resources()"
   ]
  },
  {
   "cell_type": "code",
   "execution_count": 4,
   "metadata": {},
   "outputs": [
    {
     "output_type": "execute_result",
     "data": {
      "text/plain": [
       "('TCPIP0::140.247.189.103::inst0::INSTR',\n",
       " 'TCPIP0::140.247.189.152::inst0::INSTR',\n",
       " 'ASRL3::INSTR',\n",
       " 'ASRL4::INSTR',\n",
       " 'ASRL5::INSTR',\n",
       " 'ASRL6::INSTR',\n",
       " 'GPIB0::18::INSTR')"
      ]
     },
     "metadata": {},
     "execution_count": 4
    }
   ],
   "source": [
    "rm.list_resources()"
   ]
  },
  {
   "cell_type": "code",
   "execution_count": 5,
   "metadata": {},
   "outputs": [],
   "source": [
    "# Choose ID corresponding to the spectrum analyzer\n",
    "gpib_address = 'GPIB0::18::INSTR'"
   ]
  },
  {
   "cell_type": "code",
   "execution_count": 6,
   "metadata": {},
   "outputs": [],
   "source": [
    "# Instantiate driver\n",
    "spectrum_analyzer = sa.Driver(\n",
    "    gpib_address=gpib_address,\n",
    "    logger=logger\n",
    ")"
   ]
  },
  {
   "cell_type": "code",
   "execution_count": 7,
   "metadata": {},
   "outputs": [],
   "source": [
    "spectrum_analyzer.set_reference_level(-9)"
   ]
  },
  {
   "cell_type": "code",
   "execution_count": null,
   "metadata": {},
   "outputs": [],
   "source": [
    "spectrum_analyzer.device.write(\"\")"
   ]
  },
  {
   "cell_type": "markdown",
   "metadata": {},
   "source": [
    "# Start up Server"
   ]
  },
  {
   "cell_type": "code",
   "execution_count": 5,
   "metadata": {},
   "outputs": [],
   "source": [
    "# Spectrum analyzer server\n",
    "sa_service = Service()\n",
    "sa_service.assign_module(module=spectrum_analyzer)\n",
    "sa_service.assign_logger(logger=logger)\n",
    "sa_service_server = GenericServer(\n",
    "    service=sa_service, \n",
    "    host='localhost', \n",
    "    port=12352\n",
    ")"
   ]
  },
  {
   "cell_type": "code",
   "execution_count": 6,
   "metadata": {},
   "outputs": [],
   "source": [
    "# Start Server\n",
    "sa_service_server.start()"
   ]
  },
  {
   "cell_type": "code",
   "execution_count": null,
   "metadata": {},
   "outputs": [],
   "source": []
  },
  {
   "cell_type": "code",
   "execution_count": null,
   "metadata": {},
   "outputs": [],
   "source": []
  }
 ],
 "metadata": {
  "kernelspec": {
   "display_name": "Python 3",
   "language": "python",
   "name": "python3"
  },
  "language_info": {
   "codemirror_mode": {
    "name": "ipython",
    "version": 3
   },
   "file_extension": ".py",
   "mimetype": "text/x-python",
   "name": "python",
   "nbconvert_exporter": "python",
   "pygments_lexer": "ipython3",
   "version": "3.8.3-final"
  }
 },
 "nbformat": 4,
 "nbformat_minor": 2
}