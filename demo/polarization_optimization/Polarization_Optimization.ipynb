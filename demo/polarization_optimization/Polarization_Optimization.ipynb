{
 "cells": [
  {
   "cell_type": "code",
   "execution_count": 1,
   "metadata": {},
   "outputs": [],
   "source": [
    "import numpy as np\n",
    "from pylabnet.utils.logging.logger import LogClient\n",
    "from pylabnet.network.client_server.thorlabs_mpc320 import Client as pol_paddle_Client\n",
    "from pylabnet.network.client_server.thorlabs_pm320e import Client as power_meter_Client\n",
    "import matplotlib.pyplot as plt\n",
    "import matplotlib.pyplot as plt"
   ]
  },
  {
   "cell_type": "code",
   "execution_count": 2,
   "metadata": {},
   "outputs": [],
   "source": [
    "pol_paddle_client = pol_paddle_Client(\n",
    "    host='140.247.189.54',\n",
    "    port=47503,\n",
    ")"
   ]
  },
  {
   "cell_type": "code",
   "execution_count": 3,
   "metadata": {},
   "outputs": [],
   "source": [
    "power_meter_client = power_meter_Client(\n",
    "    host='140.247.189.54',\n",
    "    port=13114,\n",
    ")"
   ]
  },
  {
   "cell_type": "code",
   "execution_count": 4,
   "metadata": {},
   "outputs": [],
   "source": [
    "#settings for polarization paddle and power meter \n",
    "channel = 2\n",
    "p_range = 'R1NW'\n",
    "paddles = [0,1,2]\n",
    "velocity = 100 #percentage from 0 to 100\n",
    "pol_paddle_client.set_velocity(velocity) \n",
    "#power_meter_client.set_range(channel, p_range)"
   ]
  },
  {
   "cell_type": "code",
   "execution_count": 5,
   "metadata": {},
   "outputs": [],
   "source": [
    "#set parameters for optimization code\n",
    "count = 0\n",
    "iter_count = 0  #initialized to zero and gro as step in angles as taken in an single iteration\n",
    "ang = [] \n",
    "angle = []\n",
    "power = []\n",
    "pos = []\n",
    "iteration_num = 40 #number of iterations we ableto check conversion\n",
    "step_num = 60 #number of step angles within range Cannot go below 2 in full range to have enough \n",
    "converge_parameter =  0.001 # resoution in angle to define convergance \n",
    "#time for paddle to repond (defined in move function in driver)\n",
    "ang_paddles = []\n",
    "power_paddles = []\n",
    "sleep_time = 1 #defines time (in sec) that we allow paddle to move 170 degrees"
   ]
  },
  {
   "cell_type": "code",
   "execution_count": 7,
   "metadata": {},
   "outputs": [],
   "source": [
    "#for an initial scan of all angles\n",
    "for paddle in paddles:\n",
    "    home = pol_paddle_client.move(paddle, 100, sleep_time)\n"
   ]
  },
  {
   "cell_type": "code",
   "execution_count": 8,
   "metadata": {},
   "outputs": [],
   "source": [
    "for paddle in paddles:\n",
    "    deviate = 170 #range of angle to scan\n",
    "    step_size = deviate/step_num\n",
    "    move_in = pol_paddle_client.move_rel(paddle, -deviate/2, sleep_time)\n",
    "    while iter_count < iteration_num:\n",
    "        if iter_count >= 1:\n",
    "            move = pol_paddle_client.move(paddle, ang[iter_count-1]-deviate/2, sleep_time)\n",
    "        while count < step_num:\n",
    "            mover = pol_paddle_client.move_rel(paddle, step_size, sleep_time)\n",
    "            PosF = pol_paddle_client.get_angle(paddle)\n",
    "            current_power = power_meter_client.get_power(channel)\n",
    "            power.extend([current_power])\n",
    "            angle.extend([PosF])\n",
    "            count += 1\n",
    "        plt.figure((paddle+1)*iteration_num)\n",
    "        plt.title(f\"paddle # {paddle} , iteration # {iter_count}.\")\n",
    "        plt.plot(angle, power, \"or\")\n",
    "        max_index = np.argmax(power)\n",
    "        ang.extend([angle[max_index]]) \n",
    "        if iter_count >= 1:\n",
    "            if abs(ang[iter_count] - ang[iter_count-1]) < converge_parameter:\n",
    "                print(f\"converged to max power.\")\n",
    "                move = pol_paddle_client.move(paddle, angle[max_index], sleep_time)\n",
    "                count = 0\n",
    "                iter_count = 0\n",
    "                power = []\n",
    "                angle = []\n",
    "                break\n",
    "\n",
    "        deviate = deviate/2\n",
    "        step_size = deviate/step_num\n",
    "        iter_count += 1\n",
    "        count = 0\n",
    "\n",
    "    ang_paddles.extend(ang)\n",
    "    power_paddles.extend(power)\n",
    "    ang = []\n",
    "    iter_count = 0"
   ]
  },
  {
   "cell_type": "code",
   "execution_count": 51,
   "metadata": {},
   "outputs": [
    {
     "name": "stdout",
     "output_type": "stream",
     "text": [
      "Position before move is 45.54014598540146\n",
      "Initial power is 3.65 uW.\n",
      "Moved to final position: 85.0\n",
      "Power after move is 1.35 uW.\n"
     ]
    }
   ],
   "source": [
    "PosF1 = pol_paddle_client.get_angle(paddles[0])\n",
    "print(f\"paddle = {paddles[0]} final_angle = {PosF1}\")\n",
    "PosF2 = pol_paddle_client.get_angle(paddles[1])\n",
    "print(f\"paddle = {paddles[1]} final_angle = {PosF2}\")\n",
    "PosF3 = pol_paddle_client.get_angle(paddles[2])\n",
    "print(f\"paddle = {paddles[2]} final_angle = {PosF3}\")"
   ]
  }
 ],
 "metadata": {
  "kernelspec": {
   "display_name": "Python 3",
   "language": "python",
   "name": "python3"
  },
  "language_info": {
   "codemirror_mode": {
    "name": "ipython",
    "version": 3
   },
   "file_extension": ".py",
   "mimetype": "text/x-python",
   "name": "python",
   "nbconvert_exporter": "python",
   "pygments_lexer": "ipython3",
   "version": "3.6.5-final"
  }
 },
 "nbformat": 4,
 "nbformat_minor": 4
}